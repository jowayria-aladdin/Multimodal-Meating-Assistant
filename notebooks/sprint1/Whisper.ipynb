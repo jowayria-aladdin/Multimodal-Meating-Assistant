{
  "nbformat": 4,
  "nbformat_minor": 0,
  "metadata": {
    "colab": {
      "provenance": []
    },
    "kernelspec": {
      "name": "python3",
      "display_name": "Python 3"
    },
    "language_info": {
      "name": "python"
    }
  },
  "cells": [
    {
      "cell_type": "code",
      "execution_count": 3,
      "metadata": {
        "id": "MpC-1xTTpPl1"
      },
      "outputs": [],
      "source": [
        "!pip install -q openai-whisper --quiet"
      ]
    },
    {
      "cell_type": "code",
      "source": [
        "import whisper\n",
        "\n",
        "model = whisper.load_model(\"large\")\n",
        "result = model.transcribe(\"/content/noise_english.mp3\")\n",
        "print(result[\"text\"])"
      ],
      "metadata": {
        "id": "SQS9w4zHpgiR"
      },
      "execution_count": null,
      "outputs": []
    }
  ]
}