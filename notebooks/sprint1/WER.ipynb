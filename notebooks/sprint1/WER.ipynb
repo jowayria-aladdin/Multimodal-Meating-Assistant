{
  "cells": [
    {
      "cell_type": "code",
      "source": [
        "!pip install jiwer"
      ],
      "metadata": {
        "colab": {
          "base_uri": "https://localhost:8080/"
        },
        "id": "HDvKs1e1T-kH",
        "outputId": "ea7800f4-d1e2-420f-854c-7d8515f5a0f4"
      },
      "execution_count": 1,
      "outputs": [
        {
          "output_type": "stream",
          "name": "stdout",
          "text": [
            "Requirement already satisfied: jiwer in /usr/local/lib/python3.12/dist-packages (4.0.0)\n",
            "Requirement already satisfied: click>=8.1.8 in /usr/local/lib/python3.12/dist-packages (from jiwer) (8.3.0)\n",
            "Requirement already satisfied: rapidfuzz>=3.9.7 in /usr/local/lib/python3.12/dist-packages (from jiwer) (3.14.1)\n"
          ]
        }
      ]
    },
    {
      "cell_type": "markdown",
      "metadata": {
        "id": "1kay31k9q4aa"
      },
      "source": [
        "\n",
        "**Word Error Rate (WER) is defined as:**\n",
        "   $$\n",
        "   WER = \\frac{S + D + I}{N}\n",
        "   $$\n",
        "   where:\n",
        "   - $S =$ number of substitutions (word is different in reference text from predicted)\n",
        "   - $D =$ number of deletions (word in the reference text is missing from the predicted)\n",
        "   - $I =$ number of insertions (extra word is present in the predicted that is not in the reference text)\n",
        "   - $N =$ total number of words in the reference sentence\n",
        "\n",
        "   Reference: [WER](https://thepythoncode.com/article/calculate-word-error-rate-in-python)"
      ]
    },
    {
      "cell_type": "markdown",
      "metadata": {
        "id": "V3x5p4GLrsVa"
      },
      "source": [
        "# **Preprocessing**"
      ]
    },
    {
      "cell_type": "code",
      "execution_count": 2,
      "metadata": {
        "id": "wCchYldlyBul"
      },
      "outputs": [],
      "source": [
        "def normalize_arabic(text):\n",
        "    text = text.replace(\"أ\", \"ا\")\n",
        "    text = text.replace(\"إ\", \"ا\")\n",
        "    text = text.replace(\"آ\", \"ا\")\n",
        "    text = text.replace(\"ى\", \"ي\")\n",
        "    text = text.replace(\"ؤ\", \"و\")\n",
        "    text = text.replace(\"ئ\", \"ي\")\n",
        "    return text"
      ]
    },
    {
      "cell_type": "code",
      "execution_count": 3,
      "metadata": {
        "id": "6CQhvnBpyDh8"
      },
      "outputs": [],
      "source": [
        "import re\n",
        "def remove_diacritics(text):\n",
        "    arabic_diacritics = re.compile(\"\"\"\n",
        "         ّ |\n",
        "         َ |\n",
        "         ً |\n",
        "         ُ |\n",
        "         ٌ |\n",
        "         ِ |\n",
        "         ٍ |\n",
        "         ْ |\n",
        "         ـ\n",
        "     \"\"\", re.VERBOSE)\n",
        "    return re.sub(arabic_diacritics, '', text)"
      ]
    },
    {
      "cell_type": "code",
      "execution_count": 4,
      "metadata": {
        "id": "xHmcAhOysR3s"
      },
      "outputs": [],
      "source": [
        "import string\n",
        "\n",
        "def preprocess(filename):\n",
        "    with open(filename, \"r\", encoding=\"utf-8\") as f:\n",
        "        # Read all lines, strip spaces, ignore empty lines\n",
        "        lines = [line.strip() for line in f if line.strip()]\n",
        "        # Join lines into a single string\n",
        "        text = \" \".join(lines)\n",
        "    text = normalize_arabic(text)\n",
        "    text = remove_diacritics(text)\n",
        "    # Remove English and Arabic punctuation (which is after the +)\n",
        "    all_punct = string.punctuation + \"؟؛،\"\n",
        "    text = text.translate(str.maketrans('', '', all_punct))\n",
        "    # Lowercase English letters\n",
        "    text = ''.join([c.lower() if c.isascii() else c for c in text])\n",
        "    # Remove extra spaces\n",
        "    text = \" \".join(text.split())\n",
        "    return text"
      ]
    },
    {
      "cell_type": "markdown",
      "metadata": {
        "id": "Zyjo9EVN5CXJ"
      },
      "source": [
        "# **Get Word Error Rate**"
      ]
    },
    {
      "cell_type": "markdown",
      "source": [
        "## English WER without noise"
      ],
      "metadata": {
        "id": "zdJ5Xw7TUVXM"
      }
    },
    {
      "cell_type": "code",
      "execution_count": 5,
      "metadata": {
        "id": "mpPD_aem45SQ"
      },
      "outputs": [],
      "source": [
        "reference = preprocess(\"english/original.txt\")\n",
        "predicted_otter = preprocess(\"english/otter-english.txt\")\n",
        "predicted_google_docs = preprocess(\"english/google-english.txt\")\n",
        "predicted_google_pro = preprocess(\"english/google-pro-english.txt\")\n",
        "predicted_whisper = preprocess(\"english/whisper-english.txt\")"
      ]
    },
    {
      "cell_type": "code",
      "execution_count": 6,
      "metadata": {
        "colab": {
          "base_uri": "https://localhost:8080/"
        },
        "id": "WTz_Ak-7rmhR",
        "outputId": "43d5434d-34bd-42cb-c6f1-8b8d30f44d1b"
      },
      "outputs": [
        {
          "output_type": "stream",
          "name": "stdout",
          "text": [
            "Word Error Rate Google Pro: 0.18\n",
            "Word Error Rate Google Docs: 0.20\n",
            "Word Error Rate Otter: 0.20\n",
            "Word Error Rate Whisper: 0.20\n"
          ]
        }
      ],
      "source": [
        "from jiwer import wer\n",
        "WER = wer(reference, predicted_google_pro)\n",
        "print(f\"Word Error Rate Google Pro: {WER:.2f}\")\n",
        "WER = wer(reference, predicted_google_docs)\n",
        "print(f\"Word Error Rate Google Docs: {WER:.2f}\")\n",
        "WER = wer(reference, predicted_otter)\n",
        "print(f\"Word Error Rate Otter: {WER:.2f}\")\n",
        "WER = wer(reference, predicted_whisper)\n",
        "print(f\"Word Error Rate Whisper: {WER:.2f}\")"
      ]
    },
    {
      "cell_type": "markdown",
      "source": [
        "## English WER with noise"
      ],
      "metadata": {
        "id": "cNNQvf-tVRj0"
      }
    },
    {
      "cell_type": "code",
      "source": [
        "predicted_otter = preprocess(\"noise_english/otter-noise-english.txt\")\n",
        "predicted_google_docs = preprocess(\"noise_english/google-noise-english.txt\")\n",
        "predicted_google_pro = preprocess(\"noise_english/google-pro-noise_english.txt\")\n",
        "predicted_whisper = preprocess(\"noise_english/whisper-english-noise.txt\")"
      ],
      "metadata": {
        "id": "gbf0u8bBVVns"
      },
      "execution_count": 7,
      "outputs": []
    },
    {
      "cell_type": "code",
      "source": [
        "WER = wer(reference, predicted_google_pro)\n",
        "print(f\"Word Error Rate Google Pro: {WER:.2f}\")\n",
        "WER = wer(reference, predicted_google_docs)\n",
        "print(f\"Word Error Rate Google Docs: {WER:.2f}\")\n",
        "WER = wer(reference, predicted_otter)\n",
        "print(f\"Word Error Rate Otter: {WER:.2f}\")\n",
        "WER = wer(reference, predicted_whisper)\n",
        "print(f\"Word Error Rate Whisper: {WER:.2f}\")"
      ],
      "metadata": {
        "colab": {
          "base_uri": "https://localhost:8080/"
        },
        "id": "QizWLbkBXl33",
        "outputId": "c842cb1c-e55c-42df-ecaa-79d9c628fec4"
      },
      "execution_count": 8,
      "outputs": [
        {
          "output_type": "stream",
          "name": "stdout",
          "text": [
            "Word Error Rate Google Pro: 0.21\n",
            "Word Error Rate Google Docs: 0.19\n",
            "Word Error Rate Otter: 0.17\n",
            "Word Error Rate Whisper: 0.29\n"
          ]
        }
      ]
    },
    {
      "cell_type": "markdown",
      "source": [
        "## Arabic WER without Noise"
      ],
      "metadata": {
        "id": "WmG1vkE6X0jl"
      }
    },
    {
      "cell_type": "code",
      "source": [
        "reference = preprocess(\"arabic/original.txt\")\n",
        "predicted_google_docs = preprocess(\"arabic/google-arabic.txt\")\n",
        "predicted_google_pro = preprocess(\"arabic/google-pro-arabic.txt\")\n",
        "predicted_whisper = preprocess(\"arabic/whisper-arabic.txt\")"
      ],
      "metadata": {
        "id": "J2xyNdR8X4rp"
      },
      "execution_count": 9,
      "outputs": []
    },
    {
      "cell_type": "code",
      "source": [
        "WER = wer(reference, predicted_google_pro)\n",
        "print(f\"Word Error Rate Google Pro: {WER:.2f}\")\n",
        "WER = wer(reference, predicted_google_docs)\n",
        "print(f\"Word Error Rate Google Docs: {WER:.2f}\")\n",
        "WER = wer(reference, predicted_whisper)\n",
        "print(f\"Word Error Rate Whisper: {WER:.2f}\")"
      ],
      "metadata": {
        "colab": {
          "base_uri": "https://localhost:8080/"
        },
        "id": "nANf0lRBaMH2",
        "outputId": "c44c2560-316d-495a-8300-87e7bd2087d7"
      },
      "execution_count": 10,
      "outputs": [
        {
          "output_type": "stream",
          "name": "stdout",
          "text": [
            "Word Error Rate Google Pro: 0.21\n",
            "Word Error Rate Google Docs: 0.21\n",
            "Word Error Rate Whisper: 0.19\n"
          ]
        }
      ]
    },
    {
      "cell_type": "markdown",
      "source": [
        "## Arabic WER with Noise"
      ],
      "metadata": {
        "id": "K7-R4kT1aZ-l"
      }
    },
    {
      "cell_type": "code",
      "source": [
        "predicted_google_docs = preprocess(\"noise_arabic/google-arabic.txt\")\n",
        "predicted_google_pro = preprocess(\"noise_arabic/google-pro-noise_arabic.txt\")\n",
        "predicted_whisper = preprocess(\"noise_arabic/whisper-arabic-noise.txt\")"
      ],
      "metadata": {
        "id": "hhq63ST5afJT"
      },
      "execution_count": 11,
      "outputs": []
    },
    {
      "cell_type": "code",
      "source": [
        "WER = wer(reference, predicted_google_pro)\n",
        "print(f\"Word Error Rate Google Pro: {WER:.2f}\")\n",
        "WER = wer(reference, predicted_google_docs)\n",
        "print(f\"Word Error Rate Google Docs: {WER:.2f}\")\n",
        "WER = wer(reference, predicted_whisper)\n",
        "print(f\"Word Error Rate Whisper: {WER:.2f}\")"
      ],
      "metadata": {
        "colab": {
          "base_uri": "https://localhost:8080/"
        },
        "id": "may3I8CUa_Oa",
        "outputId": "91f33e0f-7c6f-4f50-fd22-ded8e6c09765"
      },
      "execution_count": 12,
      "outputs": [
        {
          "output_type": "stream",
          "name": "stdout",
          "text": [
            "Word Error Rate Google Pro: 0.22\n",
            "Word Error Rate Google Docs: 0.22\n",
            "Word Error Rate Whisper: 0.21\n"
          ]
        }
      ]
    },
    {
      "cell_type": "markdown",
      "source": [
        "## Code-switching without Noise"
      ],
      "metadata": {
        "id": "NJPk3UT4bJdI"
      }
    },
    {
      "cell_type": "code",
      "source": [
        "reference = preprocess(\"mixed/original.txt\")\n",
        "predicted_google_pro = preprocess(\"mixed/google-pro-mixed.txt\")\n",
        "predicted_whisper = preprocess(\"mixed/whisper-mixed.txt\")"
      ],
      "metadata": {
        "id": "I5UjZM5fbN_v"
      },
      "execution_count": 13,
      "outputs": []
    },
    {
      "cell_type": "code",
      "source": [
        "WER = wer(reference, predicted_google_pro)\n",
        "print(f\"Word Error Rate Google Pro: {WER:.2f}\")\n",
        "WER = wer(reference, predicted_whisper)\n",
        "print(f\"Word Error Rate Whisper: {WER:.2f}\")"
      ],
      "metadata": {
        "colab": {
          "base_uri": "https://localhost:8080/"
        },
        "id": "XyvqSPRWbleF",
        "outputId": "cf04b495-62f6-4bcb-c3f4-a8a6070a8076"
      },
      "execution_count": 14,
      "outputs": [
        {
          "output_type": "stream",
          "name": "stdout",
          "text": [
            "Word Error Rate Google Pro: 0.55\n",
            "Word Error Rate Whisper: 0.77\n"
          ]
        }
      ]
    },
    {
      "cell_type": "markdown",
      "source": [
        "## Code-switching with Noise"
      ],
      "metadata": {
        "id": "RxpcTVlQcJaX"
      }
    },
    {
      "cell_type": "code",
      "source": [
        "predicted_google_pro = preprocess(\"noise_mixed/google-pro-noise_mixed.txt\")\n",
        "predicted_whisper = preprocess(\"noise_mixed/whisper-mixed-noise.txt\")"
      ],
      "metadata": {
        "id": "ac77xpxMcMVm"
      },
      "execution_count": 15,
      "outputs": []
    },
    {
      "cell_type": "code",
      "source": [
        "WER = wer(reference, predicted_google_pro)\n",
        "print(f\"Word Error Rate Google Pro: {WER:.2f}\")\n",
        "WER = wer(reference, predicted_whisper)\n",
        "print(f\"Word Error Rate Whisper: {WER:.2f}\")"
      ],
      "metadata": {
        "colab": {
          "base_uri": "https://localhost:8080/"
        },
        "id": "gkmCdZ5Ocgqp",
        "outputId": "a02ad936-d19b-4867-e7c6-7cebcb10bcf3"
      },
      "execution_count": 16,
      "outputs": [
        {
          "output_type": "stream",
          "name": "stdout",
          "text": [
            "Word Error Rate Google Pro: 1.24\n",
            "Word Error Rate Whisper: 0.28\n"
          ]
        }
      ]
    }
  ],
  "metadata": {
    "colab": {
      "provenance": []
    },
    "kernelspec": {
      "display_name": "Python 3",
      "name": "python3"
    },
    "language_info": {
      "codemirror_mode": {
        "name": "ipython",
        "version": 3
      },
      "file_extension": ".py",
      "mimetype": "text/x-python",
      "name": "python",
      "nbconvert_exporter": "python",
      "pygments_lexer": "ipython3",
      "version": "3.8.10"
    }
  },
  "nbformat": 4,
  "nbformat_minor": 0
}